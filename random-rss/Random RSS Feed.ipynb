{
 "metadata": {
  "name": "",
  "signature": "sha256:e1fa96dd603a9ec3911c1dfebfd18afb350daa6b5e39836d854e4322d75c9c06"
 },
 "nbformat": 3,
 "nbformat_minor": 0,
 "worksheets": [
  {
   "cells": [
    {
     "cell_type": "heading",
     "level": 1,
     "metadata": {},
     "source": [
      "Serve-up a Random RSS Feed using pure Python"
     ]
    },
    {
     "cell_type": "markdown",
     "metadata": {},
     "source": [
      "> From a text file containing a large number of quotes, create an RSS feed that will contain 100 of these quotes when it is accessed. Every time it's run, it should select 100 quotes randomly from the entire list.\n",
      "\n",
      "\n",
      "Recently a friend of mine shared this problem and wondered if this could be solved within an hour or less of coding. He was proposing this problem for a hackathon and was looking for something that would require the use of current technologies and test the programming skills. \n",
      "\n",
      "Pretty soon in our discussion it became clear the state of the art has made it so easy to solve it that we moved to other tougher problems. I remained awestruck for quite some time after the discussion as to how really awesome the tools of today are and kept looking at the solution we'd come up with.\n",
      "\n",
      "This post is to share this solution and hopefully along with it, the feeling."
     ]
    },
    {
     "cell_type": "heading",
     "level": 2,
     "metadata": {},
     "source": [
      "Structure of the solution"
     ]
    },
    {
     "cell_type": "markdown",
     "metadata": {},
     "source": [
      "The core problems to be solved are \n",
      "1. picking a random set of data points from the database everytime the solution is run.\n",
      "2. creating an RSS Feed from selected entries.\n",
      "\n",
      "On #1 is where the python random module & the list type come to the rescue. And for #2, a quick google search gave several RSS Feed implementations in python and we settled on [rfeed](https://github.com/svpino/rfeed). With these choices, the design is pretty simple:\n",
      "\n",
      "1. Open the data-source & find the number of items available.\n",
      "2. Randomly select 100 of these.\n",
      "3. Layout the selected items in an RSS Feed.\n",
      "4. Publish/ output the feed.\n"
     ]
    },
    {
     "cell_type": "heading",
     "level": 2,
     "metadata": {},
     "source": [
      "Coding the solution"
     ]
    },
    {
     "cell_type": "markdown",
     "metadata": {},
     "source": [
      "The first part of the script loads the dependencies:"
     ]
    },
    {
     "cell_type": "code",
     "collapsed": false,
     "input": [
      "import random"
     ],
     "language": "python",
     "metadata": {},
     "outputs": [],
     "prompt_number": 1
    },
    {
     "cell_type": "code",
     "collapsed": false,
     "input": [
      "# Locally source the rfeed.py from https://raw.githubusercontent.com/svpino/rfeed/master/rfeed.py\n",
      "# This is equivalent to `from rfeed import *`\n",
      "%run rfeed.py\n",
      "\n",
      "rss_len=10\n",
      "title_len = 20\n",
      "datafile = 'data.txt'\n"
     ],
     "language": "python",
     "metadata": {},
     "outputs": [],
     "prompt_number": 2
    },
    {
     "cell_type": "markdown",
     "metadata": {},
     "source": [
      "Then we open the data-source. For our experiment we use a local data-source, a text file containing ~1000 witty one-liners of text from textfiles.com. \n",
      "\n",
      "Next we need to select 100 of these randomly. The `random` python module provides a neat function called `random.sample` that samples a `list` (technically any `sequence`) and returns a sub-sequence of elements chosen randomly. It takes 2 arguments - the list and the size of the list to be returned. Detailed documentation for the function can be found [here](https://docs.python.org/3/library/random.html#random.sample).\n",
      "\n",
      "Since the data-source access is a simple read-from-file we directly pass it on the random.sample function. However in case the data source is a database connection or too large to be held in-memory, we can run `random.sample` on `range(len(data_source)` and access these records only. Also if the data was in an input file formatted in a certain way we can use dedicated parsers. These are possible enhancements."
     ]
    },
    {
     "cell_type": "code",
     "collapsed": false,
     "input": [
      "def get_rows(fn, size):\n",
      "    with open(fn) as f:\n",
      "        rows = random.sample(f.readlines(), size)\n",
      "    print(\"Selected {} items.\".format(len(rows)))\n",
      "    return rows"
     ],
     "language": "python",
     "metadata": {},
     "outputs": [],
     "prompt_number": 3
    },
    {
     "cell_type": "markdown",
     "metadata": {},
     "source": [
      "Since our data is made up of one-liners and the RSS data model contains a title and a description, we derive the title by trunating the description to 20 characters (20 chosen \"randomly\" here \ud83d\ude09)."
     ]
    },
    {
     "cell_type": "code",
     "collapsed": false,
     "input": [
      "def truncate(s, n):\n",
      "    x = len(s)\n",
      "    if x > n and n > 2:\n",
      "        s = ''.join([s[:(n-3)], '...'])\n",
      "    return s"
     ],
     "language": "python",
     "metadata": {},
     "outputs": [],
     "prompt_number": 4
    },
    {
     "cell_type": "markdown",
     "metadata": {},
     "source": [
      "Finally we wrap-up the selected items into an RSS feed using the functions defined in [rfeed.py](https://raw.githubusercontent.com/svpino/rfeed/master/rfeed.py). In the snippet below `Item` and `Feed` are classed defined by rfeed - their usage is explained [here](https://github.com/svpino/rfeed/blob/master/rfeed.py) in detail."
     ]
    },
    {
     "cell_type": "code",
     "collapsed": false,
     "input": [
      "def create_random_feed(filename, feed_length, title_length):\n",
      "    selec = get_rows(filename, feed_length)\n",
      "    content_list = []\n",
      "\n",
      "    for it in selec:\n",
      "        it = it.strip()\n",
      "        fi = Item( title = truncate(it, title_length), description = it )\n",
      "        content_list.append(fi)\n",
      "\n",
      "    feed = Feed(\n",
      "        title = \"Sample RSS Feed\",\n",
      "        link = \"https://github.com/madhuri2k/fantastic-spoon\",\n",
      "        description = \"A Random selection of items\",\n",
      "        language = \"en-US\",\n",
      "        items = content_list)\n",
      "\n",
      "    print(\"Feed is {}\".format(feed.rss()))\n",
      "\n",
      "    return feed\n"
     ],
     "language": "python",
     "metadata": {},
     "outputs": [],
     "prompt_number": 5
    },
    {
     "cell_type": "markdown",
     "metadata": {},
     "source": [
      "... et voila, our feed is ready.\n",
      "\n",
      "## Testing it offline and online\n",
      "\n",
      "To serve this we spin up a local instance of python flask.\n",
      "\n",
      "```\n",
      "app = Flask(__name__)\n",
      "@app.route(\"/\")\n",
      "def get_news():\n",
      "    feed = create_random_feed(datafile, rss_len, title_len)\n",
      "    if feed:\n",
      "        return feed.rss()\n",
      "    else:\n",
      "        return \"No news is good news.\"\n",
      "\n",
      "if __name__ == '__main__':\n",
      "    app.run(port=5000, debug=True)\n",
      "```\n",
      "That won't run inside of a notebook so we test this by calling the function directly. Each time, it returns a different set of items."
     ]
    },
    {
     "cell_type": "code",
     "collapsed": false,
     "input": [
      "# Run once locally\n",
      "create_random_feed(datafile, rss_len, title_len) "
     ],
     "language": "python",
     "metadata": {},
     "outputs": [
      {
       "output_type": "stream",
       "stream": "stdout",
       "text": [
        "Selected 10 items.\n",
        "Feed is <?xml version=\"1.0\" encoding=\"UTF-8\"?>\n",
        "<rss version=\"2.0\" xmlns:dc=\"http://purl.org/dc/elements/1.1/\"><channel><title>Sample RSS Feed</title><link>https://github.com/madhuri2k/fantastic-spoon</link><description>A Random selection of items</description><language>en-US</language><generator>rfeed v1.0.0</generator><docs>https://github.com/svpino/rfeed/blob/master/README.md</docs><item><title>Every family tree...</title><description>Every family tree has some sap.</description></item><item><title>In the Beginning,...</title><description>In the Beginning, God created the Organization and gave It dominion</description></item><item><title>Small things ente...</title><description>Small things entertain small minds.</description></item><item><title>night.</title><description>night.</description></item><item><title>Always address yo...</title><description>Always address your elders with respect; they could leave you a</description></item><item><title>course, you run f...</title><description>course, you run for Congress.</description></item><item><title>Simple pleasures ...</title><description>Simple pleasures are the last refuge of the complex.</description></item><item><title>When smashing mon...</title><description>When smashing monuments, always save the pedestals - they come in</description></item><item><title>Always convice th...</title><description>Always convice those whom you are about to deceive that you are acting</description></item><item><title>For peace of mind...</title><description>For peace of mind, resign as general manager of the universe.</description></item></channel></rss>\n"
       ]
      },
      {
       "metadata": {},
       "output_type": "pyout",
       "prompt_number": 6,
       "text": [
        "<rfeed.Feed instance at 0x7f90a8ff03f8>"
       ]
      }
     ],
     "prompt_number": 6
    },
    {
     "cell_type": "markdown",
     "metadata": {},
     "source": [
      "## Conclusion\n",
      "\n",
      "Like I stated in the beginning it's really amazing what a few lines of well-thought-out python can accomplish. Python is a language known for its philosopy of shipping with \"batteries included\" and the `random` and `flask` packages along with the `rfeed` module proved it yet again.\n",
      "\n",
      "Let me know if there is a certain python problem you'd like to see me solve or if you have comments on this article."
     ]
    }
   ],
   "metadata": {}
  }
 ]
}